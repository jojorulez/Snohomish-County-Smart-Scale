{
 "cells": [
  {
   "cell_type": "markdown",
   "metadata": {},
   "source": [
    "## Snohomish County Ballot Drop Box Collection Routing\n"
   ]
  },
  {
   "cell_type": "markdown",
   "metadata": {},
   "source": [
    "This code was developed to take in a list of ballot boxes and workers and generate optimal routes for collection. Best use case is during Presidential Elections when all 35 boxes are open and routes can be set up in a variety of ways. Once the routes are created, there will be an option to push them to a feature layer that is connected to the Snohomish County Ballot Collection Dashboard for viewing there. There is also an option to assign routes to workers through batch assignment to Workforce. If created routes are not functional/preferred then please manually create all assignments in Workforce. This code is primarily built for large scale routing and bulk assigning. Any additions/changes to Assignments should be done by Dispatchers in the Workforce app.\n",
    "\n",
    "There will be notes ahead of each chunk of text with instructions for editable fields - keep an eye out for changes required to boxes, workers, and parameters for routing. Note that routing costs 1 credit per route created every time the cell is ran. Be careful to not unecessarily run the cell as to not waste credits.\n",
    "\n",
    "For non-coding experts: putting a hashtag (#) in front of any line of code comments it out and the line is not ran as actual code. This routing tool will require some commenting and uncommenting of ballot boxes and workers to make modifications prior to routing.\n",
    "\n",
    "#### Make sure to run ALL cells that are needed for setup, cells that don't NEED to be run for further segments to funtion will be clearly marked as OPTIONAL."
   ]
  },
  {
   "cell_type": "markdown",
   "metadata": {},
   "source": [
    "#### 1. Run this cell to connect to your GIS and get started:"
   ]
  },
  {
   "cell_type": "code",
   "execution_count": 112,
   "metadata": {},
   "outputs": [
    {
     "name": "stderr",
     "output_type": "stream",
     "text": [
      "You are logged on as lander03_UW with an administrator role, proceed with caution.\n"
     ]
    }
   ],
   "source": [
    "import arcgis\n",
    "from arcgis.gis import GIS\n",
    "gis = GIS(\"home\")"
   ]
  },
  {
   "cell_type": "code",
   "execution_count": 113,
   "metadata": {},
   "outputs": [
    {
     "name": "stdout",
     "output_type": "stream",
     "text": [
      "Import Successful\n"
     ]
    }
   ],
   "source": [
    "import pandas as pd\n",
    "from arcgis.apps import workforce\n",
    "from arcgis.apps.workforce import Project\n",
    "from arcgis.geocoding import geocode\n",
    "pd.options.display.max_columns = None\n",
    "import random\n",
    "from datetime import datetime, timedelta, timezone\n",
    "from arcgis.apps.workforce import Assignment\n",
    "from datetime import datetime\n",
    "from arcgis.features import Feature, FeatureSet\n",
    "print(\"Import Successful\")"
   ]
  },
  {
   "cell_type": "markdown",
   "metadata": {},
   "source": [
    "#### 2. Importing the map of all ballot boxes in Snohomish County and setting the start location to Everett Campus.\n",
    "If there are any changes to ballot boxes update this Feature Layer and or/ update the ID to the correspond to the correct Feature Layer."
   ]
  },
  {
   "cell_type": "code",
   "execution_count": 110,
   "metadata": {},
   "outputs": [
    {
     "name": "stdout",
     "output_type": "stream",
     "text": [
      "Successfully loaded Feature Layer:\n",
      "   • Title: ballotboxlocationOD\n",
      "   • ID: d80141d96f7e4bf882b4434592283e75\n",
      "   • Owner: vtan114_UW\n",
      "\n",
      "Successfully Loaded Ballot Box Locations: 35 Boxes in Snohomish County\n",
      "Successfully loaded Start Location to Everett Campus\n"
     ]
    }
   ],
   "source": [
    "# MODIFY the feature layer id as necessary\n",
    "fl_id = \"6816bfbff1354d67b0a8f333e1577e5a\" # Map Name: ballotboxlocationOD\n",
    "#================================================================================================ Do not modify beyond this point\n",
    "\n",
    "# Fetching the Feature Service - verifies that the search for the map name returns results and prints detials about the map found\n",
    "map_search = gis.content.search(f'id:\"{fl_id}\"')\n",
    "if map_search:\n",
    "    map_item = map_search[0]\n",
    "    print(f\"Successfully loaded Feature Layer:\\n\"\n",
    "          f\"   • Title: {map_item.title}\\n\"\n",
    "          f\"   • ID: {map_item.id}\\n\"\n",
    "          f\"   • Owner: {map_item.owner}\")\n",
    "    # Creating the data frame with all boxes in Snohomish County\n",
    "    ballotbox_layer = map_item.layers[0]\n",
    "    ballotbox_df = ballotbox_layer.query(where=\"1=1\",out_fields=\"OBJECTID,Drop_Box_location,Destination,City,State,Origin\", return_geometry=True, as_df=True)\n",
    "    print(f\"\\nSuccessfully Loaded Ballot Box Locations: {len(ballotbox_df)} Boxes in Snohomish County\")\n",
    "else:\n",
    "    print(\"No Feature Layer found with that title.\")\n",
    "\n",
    "# Sets starting location to Everett Campus\n",
    "start_address = \"3000 Rockefeller Avenue, Everett, WA\"\n",
    "start_location_name = \"Everett Campus\"\n",
    "location = geocode(start_address, out_sr={\"wkid\": 102100})[0][\"location\"]\n",
    "location[\"spatialReference\"] = {\"wkid\": 102100}\n",
    "\n",
    "# Creates a Feature Layer for the start location that will be using in routing\n",
    "feature = arcgis.features.Feature(\n",
    "    geometry=location,\n",
    "    attributes={\"ObjectID\": 1, \"Name\": \"Everett Campus\"}\n",
    ")\n",
    "feature_set = arcgis.features.FeatureSet([feature])\n",
    "feature_collection = arcgis.features.FeatureCollection.from_featureset(feature_set)\n",
    "start_layer = {\n",
    "    \"layerDefinition\": feature_collection.properties[\"layers\"][0][\"layerDefinition\"],\n",
    "    \"featureSet\": feature_set.value\n",
    "}\n",
    "\n",
    "print(f\"Successfully loaded Start Location to {start_location_name}\")"
   ]
  },
  {
   "cell_type": "markdown",
   "metadata": {},
   "source": [
    "#### OPTIONAL\n",
    "Run this cell to visualize the original ballot box data frame. Uncomment the line to run if desired, shouldn't be necessary unless box names in the next chunk need to be double checked."
   ]
  },
  {
   "cell_type": "code",
   "execution_count": 1,
   "metadata": {},
   "outputs": [],
   "source": [
    "#print(ballotbox_df)"
   ]
  },
  {
   "cell_type": "markdown",
   "metadata": {},
   "source": [
    "#### 3. Modifying the list of boxes to include all boxes the SHOULD BE INCLUDED IN ROUTING.\n",
    "##### Comment (put a hashtag in front) of boxes that should not be included. The exact location names from Drop_box_location column in the original ballotbox_df are required, avoid deleting or modifying this list to maintain the correct references. Run the above cell to see the options for boxes.\n",
    "The number of ballot boxes selected will be printed at the bottom cell for verification that the correct number of boxes were selected."
   ]
  },
  {
   "cell_type": "code",
   "execution_count": 75,
   "metadata": {},
   "outputs": [
    {
     "name": "stdout",
     "output_type": "stream",
     "text": [
      "Successfully Modified Ballot Box Selection: 35 Boxes Selected\n"
     ]
    }
   ],
   "source": [
    "# EDIT HERE - place a hashtag in front of any boxes that should not be routed\n",
    "included_boxes = [\n",
    "    \"Arlington\",\n",
    "    \"Bothell\",\n",
    "    \"Brier\",\n",
    "    \"Darrington\",\n",
    "    \"Edmonds\",\n",
    "    \"Everett (College)\",\n",
    "    \"Everett (Courthouse)\",\n",
    "    \"Everett (Mall)\",\n",
    "    \"Everett (McCollum Park)\",\n",
    "    \"Goldbar\",\n",
    "    \"Granite Falls\",\n",
    "    \"Index\",\n",
    "    \"Lake Stevens\",\n",
    "    \"Lakewood\",\n",
    "    \"Lynnwood (Ash Way)\",\n",
    "    \"Lynnwood (City Hall)\",\n",
    "    \"Lynnwood (Edmonds College)\",\n",
    "    \"Marysville (Ash Ave Park & Ride)\",\n",
    "    \"Marysville (Grove Elementary)\",\n",
    "    \"Marysville (State Ave)\",\n",
    "    \"Mill Creek\",\n",
    "    \"Monroe\",\n",
    "    \"Mountlake Terrace\",\n",
    "    \"Mukilteo\",\n",
    "    \"Silvana\",\n",
    "    \"Smokey Point\",\n",
    "    \"Snohomish (Centennial Middle School)\",\n",
    "    \"Snohomish (GPHS)\",\n",
    "    \"Snohomish (Library)\",\n",
    "    \"Stanwood\",\n",
    "    \"Startup\",\n",
    "    \"Sultan\",\n",
    "    \"Tulalip\",\n",
    "    \"Woodinville\",\n",
    "    \"Woodway\"\n",
    "]\n",
    "#================================================================================================ Do not modify beyond this point\n",
    "\n",
    "ballotbox_df = ballotbox_df[ballotbox_df[\"Drop_Box_location\"].isin(included_boxes)]\n",
    "print(f\"Successfully Modified Ballot Box Selection: {len(ballotbox_df)} Boxes Selected\")"
   ]
  },
  {
   "cell_type": "markdown",
   "metadata": {},
   "source": [
    "#### 4. Import the Workforce Project\n",
    "If there is a new project created, make sure to link it to this Notebook by modifying the project_id"
   ]
  },
  {
   "cell_type": "code",
   "execution_count": 76,
   "metadata": {},
   "outputs": [
    {
     "name": "stdout",
     "output_type": "stream",
     "text": [
      "Successfully loaded Workforce Project:\n",
      "   • Title: Snohomish County Ballot Collection Workforce\n",
      "   • ID: a717bb96df4b45b69549b53834c5e188\n",
      "   • Owner: <User username:lander03_UW>\n"
     ]
    }
   ],
   "source": [
    "# MODIFY the project ID as necessary\n",
    "project_id = \"157bf167353e4db3a9e3f739937d0535\" # Project Name: Snohomish County Ballot Collection Workforce (Feature Service)\n",
    "#================================================================================================ Do not modify beyond this point\n",
    "\n",
    "# Searching for and saving the Workforce project\n",
    "project_item = gis.content.get(project_id)\n",
    "if project_item:\n",
    "    assignments_layer = project_item.layers[0]\n",
    "    workers_layer = project_item.layers[1]\n",
    "    workforce_project = Project(project_item)\n",
    "    print(f\"Successfully loaded Workforce Project:\\n\"\n",
    "          f\"   • Title: {workforce_project.title}\\n\"\n",
    "          f\"   • ID: {workforce_project.id}\\n\"\n",
    "          f\"   • Owner: {workforce_project.owner}\")\n",
    "else:\n",
    "    workforce_project = None\n",
    "    print(\"No Workforce project found with that ID\")"
   ]
  },
  {
   "cell_type": "markdown",
   "metadata": {},
   "source": [
    "#### 5. Clearing out Yesterday's Workforce Assignments"
   ]
  },
  {
   "cell_type": "code",
   "execution_count": 77,
   "metadata": {},
   "outputs": [
    {
     "name": "stdout",
     "output_type": "stream",
     "text": [
      "Found 0 assignments older than today.\n",
      "No old assignments found.\n"
     ]
    }
   ],
   "source": [
    "all_assignments = workforce_project.assignments.search()\n",
    "today = datetime.now(timezone.utc).date()\n",
    "assignments_to_delete = [\n",
    "    assignment for assignment in all_assignments\n",
    "    if assignment.assigned_date and assignment.assigned_date.date() < today\n",
    "]\n",
    "print(f\"Found {len(assignments_to_delete)} assignments older than today.\")\n",
    "if assignments_to_delete:\n",
    "    workforce_project.assignments.batch_delete(assignments_to_delete)\n",
    "    print(\"Old assignments successfully deleted.\")\n",
    "else:\n",
    "    print(\"No old assignments found.\")"
   ]
  },
  {
   "cell_type": "markdown",
   "metadata": {},
   "source": [
    "#### 6. Create the Routes!\n",
    "### WARNING!\n",
    "#### This chunk uses 1 credit per route to run, update parameters carefully and avoid running multiple times. Note that modifications to Assignments can be done manually in Workforce.\n",
    "##### Edit the parameters before running. This may take a few minutes to run\n",
    "\n",
    "The more strict the parameters are, the harder it will be to generate usable routes so be careful with this. The routing logic will aim to create the minimum number of routes while fitting in the other parameters, if adjusting the number of routes consider lowering the max_stops and max_route_time to be stricter and force the routing to balance work among the teams more efficiently.\n",
    "\n",
    "Note: \n",
    "Most Optimal Parameters for all 35 Boxes and 5 Routes: max_stops = 8, stop_service_time = 15, max_route_time = 300"
   ]
  },
  {
   "cell_type": "code",
   "execution_count": 56,
   "metadata": {},
   "outputs": [
    {
     "name": "stderr",
     "output_type": "stream",
     "text": [
      "Network elements with avoid-restrictions are traversed in the output (restriction attribute names: \"Through Traffic Prohibited\").\n",
      "{\"cost\": 5.0}\n"
     ]
    },
    {
     "name": "stdout",
     "output_type": "stream",
     "text": [
      "Routes successfully created\n"
     ]
    }
   ],
   "source": [
    "# EDIT these parameters to designate routing restrictions\n",
    "num_routes = 5  # Number of Routes that will be created\n",
    "max_stops = 8  # Maximum number of stops per route\n",
    "now = datetime.now()\n",
    "departure_time = now.replace(hour=7, minute=0, second=0, microsecond=0)\n",
    "# If it's already past 7:00 AM, set to 7:00 AM tomorrow\n",
    "if now >= departure_time:\n",
    "    departure_time += timedelta(days=1)\n",
    "stop_service_time = 15  # Service time per stop (minutes)\n",
    "max_route_time = 300  # Maximum route duration (minutes)\n",
    "return_to_start = True  # Designates that all routes should end at Everett Campus\n",
    "#================================================================================================ Do not modify beyond this point\n",
    "\n",
    "# Running the plan routes tool\n",
    "results = arcgis.features.analysis.plan_routes(\n",
    "                                    ballotbox_df,          # stops_layer\n",
    "                                    num_routes,               # route_count\n",
    "                                    max_stops,                # max_stops_per_route\n",
    "                                    departure_time,           # route_start_time\n",
    "                                    start_layer,              # start_layer\n",
    "                                    stop_service_time=stop_service_time,\n",
    "                                    max_route_time=max_route_time,\n",
    "                                    travel_mode=\"driving time\",\n",
    "                                    return_to_start=return_to_start\n",
    "                                    )\n",
    "print(\"Routes successfully created\")\n",
    "\n",
    "# Querying the results to use later\n",
    "routes = results['routes_layer'].query().sdf\n",
    "stops = results['assigned_stops_layer'].query().sdf\n",
    "stops[\"Drop_Box_location\"] = stops[\"Drop_Box_location\"].fillna(\"Everett Campus\")\n",
    "unassigned_stops_layer = results.get('unassigned_stops_layer')\n",
    "# Adding a RouteID Field that we can reference later\n",
    "routes['RouteNumber'] = routes['RouteName'].str.extract(r'Route\\s*?(\\d+)', expand=False)\n",
    "routes['RouteID'] = \"Route \" + routes['RouteNumber']\n",
    "stops['RouteNumber'] = stops['RouteName'].str.extract(r'Route\\s*?(\\d+)', expand=False)\n",
    "stops['RouteID'] = \"Route \" + stops['RouteNumber']"
   ]
  },
  {
   "cell_type": "markdown",
   "metadata": {},
   "source": [
    "#### 7. Print Route Summary\n",
    "##### If the routes that were created don't make sense or aren't work exporting, stop here and manually assign routes in Workforce."
   ]
  },
  {
   "cell_type": "code",
   "execution_count": 114,
   "metadata": {},
   "outputs": [
    {
     "name": "stdout",
     "output_type": "stream",
     "text": [
      "All selected drop boxes were assigned to a route.\n",
      "\n",
      "----------------------------------------\n",
      "Route 1\n",
      "8 Stops | Travel Time: 1 hr 37 min | Total Time: 3 hr 37 min | Distance: 43.16 miles | Est. Return Time: 10:37 AM\n",
      "  1. Everett (Courthouse)\n",
      "  2. Snohomish (Library)\n",
      "  3. Snohomish (GPHS)\n",
      "  4. Everett (McCollum Park)\n",
      "  5. Mill Creek\n",
      "  6. Lynnwood (Ash Way)\n",
      "  7. Mukilteo\n",
      "  8. Everett (Mall)\n",
      "----------------------------------------\n",
      "Route 2\n",
      "8 Stops | Travel Time: 1 hr 49 min | Total Time: 3 hr 49 min | Distance: 54.47 miles | Est. Return Time: 10:49 AM\n",
      "  1. Bothell\n",
      "  2. Woodinville\n",
      "  3. Brier\n",
      "  4. Mountlake Terrace\n",
      "  5. Woodway\n",
      "  6. Edmonds\n",
      "  7. Lynnwood (Edmonds College)\n",
      "  8. Lynnwood (City Hall)\n",
      "----------------------------------------\n",
      "Route 3\n",
      "6 Stops | Travel Time: 2 hr 46 min | Total Time: 4 hr 16 min | Distance: 118.01 miles | Est. Return Time: 11:16 AM\n",
      "  1. Smokey Point\n",
      "  2. Arlington\n",
      "  3. Darrington\n",
      "  4. Silvana\n",
      "  5. Stanwood\n",
      "  6. Lakewood\n",
      "----------------------------------------\n",
      "Route 4\n",
      "5 Stops | Travel Time: 1 hr 53 min | Total Time: 3 hr 8 min | Distance: 76.95 miles | Est. Return Time: 10:08 AM\n",
      "  1. Sultan\n",
      "  2. Goldbar\n",
      "  3. Index\n",
      "  4. Startup\n",
      "  5. Monroe\n",
      "----------------------------------------\n",
      "Route 5\n",
      "8 Stops | Travel Time: 1 hr 50 min | Total Time: 3 hr 50 min | Distance: 57.31 miles | Est. Return Time: 10:50 AM\n",
      "  1. Snohomish (Centennial Middle School)\n",
      "  2. Lake Stevens\n",
      "  3. Granite Falls\n",
      "  4. Marysville (Grove Elementary)\n",
      "  5. Marysville (Ash Ave Park & Ride)\n",
      "  6. Marysville (State Ave)\n",
      "  7. Tulalip\n",
      "  8. Everett (College)\n",
      "----------------------------------------\n"
     ]
    }
   ],
   "source": [
    "unassigned_df = None\n",
    "\n",
    "# Handle unassigned stops\n",
    "if unassigned_stops_layer:\n",
    "    unassigned_df = unassigned_stops_layer.query().sdf.copy()\n",
    "    unassigned_df['RouteID'] = 'Unassigned'\n",
    "    unassigned_df['Sequence'] = None\n",
    "    unassigned_df['EstimatedReturnTime'] = None\n",
    "    print(\"Unassigned Stops:\")\n",
    "    print(unassigned_df[['Drop_Box_location', 'Street', 'City']])\n",
    "else:\n",
    "    print(\"All selected drop boxes were assigned to a route.\\n\")\n",
    "\n",
    "print(\"-\" * 40)\n",
    "\n",
    "# Create route summary\n",
    "summary = routes.groupby('RouteID').agg({\n",
    "    'StopCount': 'sum',\n",
    "    'TotalTime': 'sum',\n",
    "    'TotalTravelTime': 'sum',\n",
    "    'TotalStopServiceTime': 'sum',\n",
    "    'Total_Miles': 'sum',\n",
    "    'Total_Kilometers': 'sum'\n",
    "}).reset_index().round(2)\n",
    "\n",
    "# Filter and merge assigned stops\n",
    "assigned_stops = stops[~stops[\"StopType\"].isin([\"Route start\", \"Route end\"])].copy()\n",
    "assigned_stops.sort_values(by=[\"RouteID\", \"Sequence\"], inplace=True)\n",
    "merged = assigned_stops.merge(summary, on=\"RouteID\", how=\"left\")\n",
    "\n",
    "# Add estimated return time\n",
    "merged['EstimatedReturnTime'] = merged['TotalTime'].apply(\n",
    "    lambda mins: (departure_time + timedelta(minutes=mins)).strftime(\"%I:%M %p\")\n",
    ")\n",
    "\n",
    "# Common export columns\n",
    "export_columns = [\n",
    "    'RouteID', 'Sequence', 'Drop_Box_location', 'City',\n",
    "    'StopCount', 'TotalTime', 'TotalTravelTime',\n",
    "    'TotalStopServiceTime', 'Total_Miles', 'Total_Kilometers',\n",
    "    'EstimatedReturnTime'\n",
    "]\n",
    "\n",
    "# Print route summaries and stops\n",
    "for route_id, group in merged.groupby(\"RouteID\"):\n",
    "    row = group.iloc[0]\n",
    "    total_minutes = row['TotalTime']\n",
    "    travel_minutes = row['TotalTravelTime']\n",
    "\n",
    "    total_time_str = f\"{int(total_minutes // 60)} hr {int(total_minutes % 60)} min\"\n",
    "    travel_time_str = f\"{int(travel_minutes // 60)} hr {int(travel_minutes % 60)} min\"\n",
    "    return_time = row['EstimatedReturnTime']\n",
    "\n",
    "    print(f\"{route_id}\")\n",
    "    print(f\"{row['StopCount']} Stops | Travel Time: {travel_time_str} | \"\n",
    "          f\"Total Time: {total_time_str} | Distance: {row['Total_Miles']} miles | \"\n",
    "          f\"Est. Return Time: {return_time}\")\n",
    "\n",
    "    for i, (_, stop) in enumerate(group.iterrows(), start=1):\n",
    "        print(f\"  {i}. {stop['Drop_Box_location']}\")\n",
    "\n",
    "    print(\"-\" * 40)\n",
    "\n",
    "# Format assigned stops for export\n",
    "assigned_export = merged[export_columns]\n",
    "\n",
    "# Format unassigned stops for export\n",
    "if unassigned_df is not None:\n",
    "    unassigned_export = unassigned_df.loc[:, ['RouteID', 'Sequence', 'Drop_Box_location', 'City']].copy()\n",
    "    for col in export_columns[5:]: \n",
    "        unassigned_export.loc[:, col] = None\n",
    "    export_df = pd.concat([assigned_export, unassigned_export], ignore_index=True)\n",
    "else:\n",
    "    export_df = assigned_export"
   ]
  },
  {
   "cell_type": "markdown",
   "metadata": {},
   "source": [
    "#### If the routes created are not functional, either re-run after adjusting parameters OR move to manual assignment in Workforce. \n",
    "##### If manually assigning in Workforce, run the first two chunks in Step 10: Send the Routes to Ballot Collection Dashboard to connect and clear the old routes from the Dashboard and Workforce maps."
   ]
  },
  {
   "cell_type": "markdown",
   "metadata": {},
   "source": [
    "#### 8. Import the Workers: designate which workers will be working today (assigned routes).\n",
    "##### Modify the list of workers by commenting out names of workers not working today. Make sure to account for ALL routes\n",
    "Add names as needed ensuring that the names added have already been added as workers to the Workforce project, use their name as it appears in Workforce. Note that the only workers in the list should be those that will be assigned routes through this code. Assignments can be created manually anytime in Workforce to workers not in this list."
   ]
  },
  {
   "cell_type": "code",
   "execution_count": 97,
   "metadata": {},
   "outputs": [
    {
     "name": "stdout",
     "output_type": "stream",
     "text": [
      "All Workers in Workforce:\n",
      "Gabe, Victoria, Laura Marie, Bella, Josiah\n",
      "\n",
      "Workers to be Routed Today: 1 Workers\n",
      "Gabe\n"
     ]
    }
   ],
   "source": [
    "# EDIT the route-to-worker assignment\n",
    "route_to_worker_name = {\n",
    "    \"Route 1\": \"UW_Washington\" # This is your only worker in Workforce right now, so I put it in here to test :\n",
    "\n",
    "    # EDIT HERE: Modify in this way when more workers are added to Workforce!\n",
    "    #\"Route 2\": \"Laura Marie\",\n",
    "    #\"Route 3\": \"Gabe\", \n",
    "    #\"Route 4\": \"Josiah\", \n",
    "    #\"Route 5\": \"Gabe\" --> note that we can assign multiple routes to one worker\n",
    "}\n",
    "#================================================================================================ Do not modify beyond this point\n",
    "\n",
    "# Extracting unique worker names from the route mapping and searching Workforce for available workers\n",
    "all_workers = set(route_to_worker_name.values())\n",
    "imported_workers = workforce_project.workers.search()\n",
    "working_today = [w for w in imported_workers if w.name in all_workers]\n",
    "worker_names_today = [w.name for w in working_today]\n",
    "worker_count = len(working_today)\n",
    "all_worker_names = [worker.name for worker in imported_workers]\n",
    "print(\"All Workers in Workforce:\")\n",
    "print(\", \".join(all_worker_names))\n",
    "print(f\"\\nWorkers to be Routed Today: {worker_count} Workers\")\n",
    "print(\", \".join(worker_names_today))"
   ]
  },
  {
   "cell_type": "markdown",
   "metadata": {},
   "source": [
    "##### After verifying that all Workers are found and in the list of workers to be routed today, run this cell to map the routes to workers."
   ]
  },
  {
   "cell_type": "code",
   "execution_count": 98,
   "metadata": {},
   "outputs": [
    {
     "name": "stdout",
     "output_type": "stream",
     "text": [
      "Route to Worker Mapping (Name + GlobalID):\n",
      "Route 1 -> Gabe (1FD88FD4-7C07-4E99-B846-23422D10A36C)\n",
      "Route 2 -> Gabe (1FD88FD4-7C07-4E99-B846-23422D10A36C)\n",
      "Route 3 -> Gabe (1FD88FD4-7C07-4E99-B846-23422D10A36C)\n",
      "Route 4 -> Gabe (1FD88FD4-7C07-4E99-B846-23422D10A36C)\n",
      "Route 5 -> Gabe (1FD88FD4-7C07-4E99-B846-23422D10A36C)\n"
     ]
    }
   ],
   "source": [
    "workers_raw = workers_layer.query(\n",
    "    where=\"1=1\",\n",
    "    out_fields=\"GlobalID, OBJECTID, name, status\",\n",
    "    return_geometry=False\n",
    ")\n",
    "\n",
    "name_to_globalid = {\n",
    "    f.attributes[\"name\"]: f.attributes[\"GlobalID\"].upper()\n",
    "    for f in workers_raw.features\n",
    "    if f.attributes[\"name\"] in all_workers\n",
    "}\n",
    "\n",
    "active_workers = list(name_to_globalid.values())\n",
    "if active_workers:\n",
    "\n",
    "    # === STEP 5: Map each route to a worker GlobalID ===\n",
    "    # Also validates all names exist\n",
    "    route_to_worker = {\n",
    "        route: name_to_globalid[name]\n",
    "        for route, name in route_to_worker_name.items()\n",
    "        if name in name_to_globalid\n",
    "    }\n",
    "    \n",
    "    missing_names = [name for name in route_to_worker_name.values() if name not in name_to_globalid]\n",
    "    if missing_names:\n",
    "        raise ValueError(f\"The following worker names are missing in 'workers_layer': {missing_names}\")\n",
    "    \n",
    "    print(\"Route to Worker Mapping (Name + GlobalID):\")\n",
    "    for route, name in route_to_worker_name.items():\n",
    "        global_id = name_to_globalid.get(name, \"Not Found\")\n",
    "        print(f\"{route} -> {name} ({global_id})\")\n",
    "else:\n",
    "    print(\"No active workers, please list workers to assign routes to.\")"
   ]
  },
  {
   "cell_type": "markdown",
   "metadata": {},
   "source": [
    "#### 9. Export Assignments to Workforce\n",
    "##### Takes the workers that we imported previosly and batch sends the assignments to Workforce. Adjustments to the assignment, priority, worker assigned, etc. can all be done in the Workforce App."
   ]
  },
  {
   "cell_type": "code",
   "execution_count": 99,
   "metadata": {},
   "outputs": [
    {
     "name": "stdout",
     "output_type": "stream",
     "text": [
      "35 assignments successfully sent to Workforce.\n"
     ]
    }
   ],
   "source": [
    "assignments_to_add = []\n",
    "for i, row in routes.iterrows():\n",
    "    route_name = row[\"RouteName\"]\n",
    "    route_ID = row[\"RouteID\"]\n",
    "\n",
    "    # Get worker GlobalID from your mapping\n",
    "    worker_globalid = route_to_worker.get(route_ID)\n",
    "    if worker_globalid is None:\n",
    "        print(f\"No worker assigned to {route_ID}. Skipping.\")\n",
    "        continue\n",
    "\n",
    "    # Find matching Worker object\n",
    "    worker = next(\n",
    "        (w for w in imported_workers if w.global_id.upper() == worker_globalid),\n",
    "        None\n",
    "    )\n",
    "    if worker is None:\n",
    "        print(f\"Worker with GlobalID {worker_globalid} not found in Workforce project. Skipping {route_ID}.\")\n",
    "        continue\n",
    "\n",
    "    # Get route stops (skip Everett Campus)\n",
    "    route_stops = stops[\n",
    "        (stops[\"RouteName\"] == route_name) &\n",
    "        (stops[\"Drop_Box_location\"] != \"Everett Campus\")\n",
    "    ].sort_values(\"Sequence\")\n",
    "\n",
    "    # Create an assignment for each stop\n",
    "    for _, stop in route_stops.iterrows():\n",
    "        sequence = stop[\"Sequence\"]\n",
    "        location_name = stop[\"Drop_Box_location\"]\n",
    "        geometry = stop[\"SHAPE\"]\n",
    "\n",
    "        assignment = Assignment(\n",
    "            project=workforce_project,\n",
    "            assignment_type=\"Drop Box Ballot Collection\",  # <-- Make sure this matches exactly to Workforce\n",
    "            location=f\"Stop {sequence - 1}: {location_name} ({route_ID})\",\n",
    "            description=f\"{route_ID}\",\n",
    "            status=\"assigned\",\n",
    "            worker=worker,\n",
    "            assigned_date=datetime.now(),\n",
    "            due_date=stop[\"DepartTimeUTC\"],\n",
    "            geometry=geometry\n",
    "        )\n",
    "        assignments_to_add.append(assignment)\n",
    "\n",
    "# Batch add all assignments\n",
    "try:\n",
    "    assignments = workforce_project.assignments.batch_add(assignments_to_add)\n",
    "    print(f\"{len(assignments)} assignments successfully sent to Workforce.\")\n",
    "except Exception as e:\n",
    "    print(\"Error sending assignments:\", e)"
   ]
  },
  {
   "cell_type": "markdown",
   "metadata": {},
   "source": [
    "#### 10. Send the Routes to Ballot Collection Dashboard"
   ]
  },
  {
   "cell_type": "markdown",
   "metadata": {},
   "source": [
    "##### Connecting to the Routes and Stops Feature Layer"
   ]
  },
  {
   "cell_type": "code",
   "execution_count": 61,
   "metadata": {},
   "outputs": [
    {
     "name": "stdout",
     "output_type": "stream",
     "text": [
      "Successfully loaded routes and stops feature layers\n"
     ]
    }
   ],
   "source": [
    "# These layers are added to the Snohomish County Ballot Collection Dispatcher Map for visibility on the dashboard - you can hide them at any time\n",
    "routes_feature_layer_id = \"cc05a86529604439b9bf47bf1ad58f69\" # Layer Name: Routes_Layer\n",
    "stops_feature_layer_id = \"1ede5afe0360411a8299a92c869a6040\" # Layer Name: Stops_Layer\n",
    "#================================================================================================ Do not modify beyond this point\n",
    "\n",
    "# Accessing the feature layers\n",
    "stops_fl_item = gis.content.get(stops_feature_layer_id)\n",
    "stops_layer_featurelayer = stops_fl_item.layers[0]\n",
    "routes_fl_item = gis.content.get(routes_feature_layer_id)\n",
    "routes_layer_featurelayer = routes_fl_item.layers[0]\n",
    "\n",
    "print(\"Successfully loaded routes and stops feature layers\")"
   ]
  },
  {
   "cell_type": "markdown",
   "metadata": {},
   "source": [
    "##### Delete Old Routes and Stops from Feature Layers"
   ]
  },
  {
   "cell_type": "code",
   "execution_count": 63,
   "metadata": {},
   "outputs": [
    {
     "name": "stdout",
     "output_type": "stream",
     "text": [
      "Successfully deleted old routes and stops from feature layers\n"
     ]
    }
   ],
   "source": [
    "stops_layer_featurelayer.delete_features(where=\"1=1\")\n",
    "routes_layer_featurelayer.delete_features(where=\"1=1\")\n",
    "print(\"Successfully deleted old routes and stops from feature layers\")"
   ]
  },
  {
   "cell_type": "markdown",
   "metadata": {},
   "source": [
    "##### Send new Routes and Stops to Feature Layers"
   ]
  },
  {
   "cell_type": "code",
   "execution_count": 66,
   "metadata": {},
   "outputs": [
    {
     "name": "stdout",
     "output_type": "stream",
     "text": [
      "Routes successfully added to existing feature layer.\n",
      "Stops successfully added to the existing feature layer.\n"
     ]
    }
   ],
   "source": [
    "# Saving the layers for modification\n",
    "routes_fl_item = gis.content.get(routes_feature_layer_id)\n",
    "routes_layer_featurelayer = routes_fl_item.layers[0]\n",
    "stops_fl_item = gis.content.get(stops_feature_layer_id)\n",
    "stops_layer_featurelayer = stops_fl_item.layers[0]\n",
    "\n",
    "# Convert DataFrame rows into Feature objects\n",
    "def df_to_features(df, geometry_col='SHAPE'):\n",
    "    features = []\n",
    "    for _, row in df.iterrows():\n",
    "        # Ensuring attributes are plain Python types\n",
    "        attributes = row.drop(geometry_col).to_dict()\n",
    "        # Converting numpy types to Python types\n",
    "        for key, value in attributes.items():\n",
    "            if hasattr(value, 'item'):\n",
    "                attributes[key] = value.item()\n",
    "        # Cleaning geometry\n",
    "        geometry = row[geometry_col]\n",
    "        if hasattr(geometry, 'as_dict'):\n",
    "            geometry = geometry.as_dict\n",
    "        elif isinstance(geometry, dict):\n",
    "            geometry = geometry\n",
    "        else:\n",
    "            raise ValueError(f\"Unsupported geometry type: {type(geometry)}\")\n",
    "        features.append(Feature(geometry=geometry, attributes=attributes))\n",
    "    return features\n",
    "\n",
    "new_route_features = df_to_features(routes)\n",
    "new_stop_features = df_to_features(stops)\n",
    "\n",
    "# Build OBJECTID -> RouteID lookups\n",
    "route_id_lookup = dict(zip(routes['OBJECTID'], routes['RouteID']))\n",
    "stop_id_lookup = dict(zip(stops['OBJECTID'], stops['RouteID']))\n",
    "\n",
    "# Overwrite RouteName on each route and stop feature using RouteID\n",
    "for feat in new_route_features:\n",
    "    oid = feat.attributes.get(\"OBJECTID\")\n",
    "    if oid in route_id_lookup:\n",
    "        feat.attributes[\"RouteName\"] = route_id_lookup[oid]\n",
    "for feat in new_stop_features:\n",
    "    oid = feat.attributes.get(\"OBJECTID\")\n",
    "    if oid in stop_id_lookup:\n",
    "        feat.attributes[\"RouteName\"] = stop_id_lookup[oid]\n",
    "\n",
    "# Update ROUTES layer\n",
    "routes_layer_featurelayer.delete_features(where=\"1=1\")\n",
    "routes_layer_featurelayer.edit_features(adds=new_route_features)\n",
    "print(\"Routes successfully added to existing feature layer.\")\n",
    "\n",
    "# Update STOPS layer\n",
    "stops_layer_featurelayer.delete_features(where=\"1=1\")\n",
    "stops_layer_featurelayer.edit_features(adds=new_stop_features)\n",
    "print(\"Stops successfully added to the existing feature layer.\")"
   ]
  },
  {
   "cell_type": "markdown",
   "metadata": {},
   "source": [
    "#### 11. Formatting the Layers for Visibility"
   ]
  },
  {
   "cell_type": "code",
   "execution_count": 104,
   "metadata": {},
   "outputs": [
    {
     "name": "stdout",
     "output_type": "stream",
     "text": [
      "Route and Stops successfully recolored\n"
     ]
    }
   ],
   "source": [
    "# Predefined colors for first 10 routes\n",
    "colors = {\n",
    "    f\"Route {i}\": color for i, color in enumerate([\n",
    "        [140, 115, 173, 255],  # Husky Purple (Light)\n",
    "        [235, 120, 125, 255],  # Cardinal Red (Light)\n",
    "        [102, 180, 132, 255],  # Evergreen (Light)\n",
    "        [151, 214, 240, 255],  # Sky Blue (Light)\n",
    "        [70, 130, 180, 255],     # Steel Blue,  # Midnight Blue (Light)\n",
    "        [235, 165, 175, 255],  # Dusty Rose (Light)\n",
    "        [200, 190, 220, 255],  # Soft Lavender (Light)\n",
    "        [200, 200, 200, 255],  # Warm Gray (Light)\n",
    "        [255, 210, 102, 255],  # Sunshine Gold (Light)\n",
    "        [100, 170, 175, 255],  # Deep Teal (Light)\n",
    "    ], start=1)\n",
    "}\n",
    "# Random color for the remaining routes (if there are any)\n",
    "def random_color():\n",
    "    return [random.randint(0, 255) for _ in range(3)] + [255]\n",
    "\n",
    "# Query features to get route names\n",
    "features = routes_layer_featurelayer.query(where=\"1=1\", out_fields=\"RouteName\", return_geometry=False).features\n",
    "route_names = sorted(set(f.attributes['RouteName'] for f in features))\n",
    "\n",
    "# Unique value renderer\n",
    "unique_values = []\n",
    "for route_name in route_names:\n",
    "    color = colors.get(route_name, random_color())\n",
    "    unique_values.append({\n",
    "        \"value\": route_name,\n",
    "        \"symbol\": {\n",
    "            \"type\": \"esriSLS\",\n",
    "            \"style\": \"esriSLSSolid\",\n",
    "            \"color\": color,\n",
    "            \"width\": 3\n",
    "        },\n",
    "        \"label\": route_name\n",
    "    })\n",
    "\n",
    "# Define and apply renderer\n",
    "renderer = {\n",
    "    \"type\": \"uniqueValue\",\n",
    "    \"field1\": \"RouteName\",\n",
    "    \"uniqueValueInfos\": unique_values,\n",
    "    \"defaultSymbol\": {\n",
    "        \"type\": \"esriSLS\",\n",
    "        \"style\": \"esriSLSSolid\",\n",
    "        \"color\": [100, 100, 100, 255],\n",
    "        \"width\": 2\n",
    "    },\n",
    "    \"defaultLabel\": \"Other\"\n",
    "}\n",
    "routes_layer_featurelayer.manager.update_definition({\"drawingInfo\": {\"renderer\": renderer}})\n",
    "\n",
    "# Query features to get route names\n",
    "features = stops_layer_featurelayer.query(where=\"1=1\", out_fields=\"RouteName\", return_geometry=False).features\n",
    "route_names = sorted(set(f.attributes['RouteName'] for f in features if f.attributes['RouteName']))\n",
    "\n",
    "# Unique value renderer\n",
    "unique_values = []\n",
    "for route_name in route_names:\n",
    "    color = colors.get(route_name, random_color())\n",
    "    unique_values.append({\n",
    "        \"value\": route_name,\n",
    "        \"symbol\": {\n",
    "            \"type\": \"esriSMS\",  # Simple Marker Symbol\n",
    "            \"style\": \"esriSMSCircle\",\n",
    "            \"color\": color,\n",
    "            \"size\": 8,\n",
    "            \"outline\": {\n",
    "                \"color\": [0, 0, 0, 255],\n",
    "                \"width\": 1\n",
    "            }\n",
    "        },\n",
    "        \"label\": route_name\n",
    "    })\n",
    "    \n",
    "# Define and apply renderer\n",
    "renderer = {\n",
    "    \"type\": \"uniqueValue\",\n",
    "    \"field1\": \"RouteName\",\n",
    "    \"uniqueValueInfos\": unique_values,\n",
    "    \"defaultSymbol\": {\n",
    "        \"type\": \"esriSMS\",\n",
    "        \"style\": \"esriSMSCircle\",\n",
    "        \"color\": [150, 150, 150, 255],\n",
    "        \"size\": 6,\n",
    "        \"outline\": {\n",
    "            \"color\": [0, 0, 0, 255],\n",
    "            \"width\": 1\n",
    "        }\n",
    "    },\n",
    "    \"defaultLabel\": \"Other\"\n",
    "}\n",
    "stops_layer_featurelayer.manager.update_definition({\"drawingInfo\": {\"renderer\": renderer}})\n",
    "\n",
    "print(\"Route and Stops successfully recolored\")"
   ]
  },
  {
   "cell_type": "markdown",
   "metadata": {},
   "source": [
    "#### 12. Exporting Route Results to CSV"
   ]
  },
  {
   "cell_type": "code",
   "execution_count": 105,
   "metadata": {},
   "outputs": [
    {
     "name": "stdout",
     "output_type": "stream",
     "text": [
      "CSV exported as routes_2025-06-11.csv\n"
     ]
    }
   ],
   "source": [
    "# Adding the workers as a column for the csv export\n",
    "assigned_export = assigned_export.copy()\n",
    "assigned_export[\"AssignedWorker\"] = assigned_export[\"RouteID\"].map(route_to_worker_name)\n",
    "\n",
    "# Export\n",
    "today_str = datetime.today().strftime(\"%Y-%m-%d\")\n",
    "filename = f\"routes_{today_str}.csv\"\n",
    "assigned_export.to_csv(filename, index=False)\n",
    "print(f\"CSV exported as {filename}\")"
   ]
  },
  {
   "cell_type": "markdown",
   "metadata": {},
   "source": [
    "#### OPTIONAL: Delete all old Workforce data from the Map - this clears the casche so do this carefully!!"
   ]
  },
  {
   "cell_type": "code",
   "execution_count": 106,
   "metadata": {},
   "outputs": [
    {
     "name": "stdout",
     "output_type": "stream",
     "text": [
      "Deleting all 234 assignments.\n",
      "Successfully deleted all results\n"
     ]
    }
   ],
   "source": [
    "assignments_layer = workforce_project._item.layers[0]\n",
    "\n",
    "# Query all features to get their IDs\n",
    "results = assignments_layer.query(where=\"1=1\", return_ids_only=True)\n",
    "object_ids = results.get('objectIds', [])\n",
    "\n",
    "# Finding and deleting assignments\n",
    "if object_ids:\n",
    "    print(f\"Deleting all {len(object_ids)} assignments.\")\n",
    "    delete_result = assignments_layer.delete_features(deletes=','.join(map(str, object_ids)))\n",
    "    print(\"Successfully deleted all results\")\n",
    "else:\n",
    "    print(\"No assignments found to delete.\")"
   ]
  }
 ],
 "metadata": {
  "esriNotebookRuntime": {
   "notebookRuntimeName": "ArcGIS Notebook Python 3 Standard",
   "notebookRuntimeVersion": "11.0"
  },
  "kernelspec": {
   "display_name": "Python 3 (ipykernel)",
   "language": "python",
   "name": "python3"
  },
  "language_info": {
   "codemirror_mode": {
    "name": "ipython",
    "version": 3
   },
   "file_extension": ".py",
   "mimetype": "text/x-python",
   "name": "python",
   "nbconvert_exporter": "python",
   "pygments_lexer": "ipython3",
   "version": "3.11.9"
  }
 },
 "nbformat": 4,
 "nbformat_minor": 4
}
